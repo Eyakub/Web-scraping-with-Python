{
 "cells": [
  {
   "cell_type": "code",
   "execution_count": 1,
   "metadata": {},
   "outputs": [],
   "source": [
    "from bs4 import BeautifulSoup\n",
    "import requests"
   ]
  },
  {
   "cell_type": "code",
   "execution_count": 2,
   "metadata": {},
   "outputs": [],
   "source": [
    "url = \"https://boston.craigslist.org/search/sof\""
   ]
  },
  {
   "cell_type": "code",
   "execution_count": 3,
   "metadata": {},
   "outputs": [],
   "source": [
    "response = requests.get(url)"
   ]
  },
  {
   "cell_type": "code",
   "execution_count": 4,
   "metadata": {},
   "outputs": [],
   "source": [
    "data = response.text"
   ]
  },
  {
   "cell_type": "code",
   "execution_count": 5,
   "metadata": {},
   "outputs": [],
   "source": [
    "soup = BeautifulSoup(data, 'html.parser')"
   ]
  },
  {
   "cell_type": "code",
   "execution_count": 6,
   "metadata": {},
   "outputs": [],
   "source": [
    "titles = soup.find_all(\"a\", {\"class\": \"result-title\"})"
   ]
  },
  {
   "cell_type": "code",
   "execution_count": 7,
   "metadata": {},
   "outputs": [
    {
     "output_type": "stream",
     "name": "stdout",
     "text": "Restaurant Depot is hiring! Earn $15/hr\nData Science Fellowship\nProject Manager\nBecome a Certified Cloud Architect Professional\nWant to earn $15/hr? Apply to Restaurant Depot\nData Management Coordinator\nData Science Fellowship\nBillionare backed Robotics company- Engineer\nProject Manager\nData Science Fellowship\nSoftware Developer for new startup (React, Python)\nSr. Software Engineer - Join a THRIVING Company actively recruiting!!\nData Engineer Manager- Join a THRIVING Company actively recruiting!!\nData Science Fellowship\nLooking For Cobol Programmer\nData Management Coordinator\nTech Apprentice\n"
    }
   ],
   "source": [
    "for title in titles:\n",
    "    print(title.text)"
   ]
  },
  {
   "cell_type": "code",
   "execution_count": 8,
   "metadata": {},
   "outputs": [],
   "source": [
    "addresses = soup.find_all('span', {\"class\": \"result-hood\"})"
   ]
  },
  {
   "cell_type": "code",
   "execution_count": 9,
   "metadata": {},
   "outputs": [
    {
     "output_type": "stream",
     "name": "stdout",
     "text": "(Needham Heights)\n (boston: boston/cambridge/brookline)\n (Needham Heights)\n (Gloucester, MA)\n (Boston)\n (Gloucester, MA)\n (Beverly)\n (Jupiter)\n (Jupiter)\n"
    }
   ],
   "source": [
    "for address in addresses:\n",
    "    print(address.text)"
   ]
  },
  {
   "cell_type": "code",
   "execution_count": null,
   "metadata": {},
   "outputs": [],
   "source": []
  }
 ],
 "metadata": {
  "language_info": {
   "codemirror_mode": {
    "name": "ipython",
    "version": 3
   },
   "file_extension": ".py",
   "mimetype": "text/x-python",
   "name": "python",
   "nbconvert_exporter": "python",
   "pygments_lexer": "ipython3",
   "version": "3.8.0-final"
  },
  "orig_nbformat": 2,
  "kernelspec": {
   "name": "python38064bitvenvvenv31f0f01a22904b30b9afeb6e5122647d",
   "display_name": "Python 3.8.0 64-bit ('venv': venv)"
  }
 },
 "nbformat": 4,
 "nbformat_minor": 2
}