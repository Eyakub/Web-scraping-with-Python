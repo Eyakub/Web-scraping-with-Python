{
 "cells": [
  {
   "cell_type": "code",
   "execution_count": 3,
   "metadata": {},
   "outputs": [],
   "source": [
    "from bs4 import BeautifulSoup\n",
    "import requests\n",
    "import pandas as pd\n",
    "\n",
    "url = \"https://boston.craigslist.org/search/sof\""
   ]
  },
  {
   "cell_type": "code",
   "execution_count": 4,
   "metadata": {},
   "outputs": [
    {
     "output_type": "stream",
     "name": "stdout",
     "text": "\n\n\nTotal Jobs:  17\n"
    },
    {
     "output_type": "execute_result",
     "data": {
      "text/plain": "                                         Job Title  \\\n1          Restaurant Depot is hiring! Earn $15/hr   \n2                          Data Science Fellowship   \n3                                  Project Manager   \n4  Become a Certified Cloud Architect Professional   \n5   Want to earn $15/hr? Apply to Restaurant Depot   \n\n                             Location    Date  \\\n1                     Needham Heights  Apr 30   \n2                                 N/A  Apr 28   \n3  boston: boston/cambridge/brookline  Apr 28   \n4                                 N/A  Apr 27   \n5                     Needham Heights  Apr 25   \n\n                                                Link  \\\n1  https://boston.craigslist.org/gbs/sof/d/needha...   \n2  https://boston.craigslist.org/gbs/sof/d/boston...   \n3  https://boston.craigslist.org/gbs/sof/d/boston...   \n4  https://boston.craigslist.org/gbs/sof/d/waltha...   \n5  https://boston.craigslist.org/gbs/sof/d/needha...   \n\n                                      Job Attributes  \\\n1                                                N/A   \n2  \\ncompensation: 80,000-160,000\\n\\nemployment t...   \n3                   \\nemployment type: full-time\\n\\n   \n4  \\ncompensation: 120000\\n\\nemployment type: emp...   \n5                                                N/A   \n\n                                     Job Description  \n1  \\n\\nQR Code Link to This Post\\n\\n\\nAPPLY NOW\\n...  \n2  \\n\\nQR Code Link to This Post\\n\\n\\nWhat is Pat...  \n3  \\n\\nQR Code Link to This Post\\n\\n\\nProject Man...  \n4  \\n\\nQR Code Link to This Post\\n\\n\\nCloud Archi...  \n5  \\n\\nQR Code Link to This Post\\n\\n\\nAPPLY NOW\\n...  ",
      "text/html": "<div>\n<style scoped>\n    .dataframe tbody tr th:only-of-type {\n        vertical-align: middle;\n    }\n\n    .dataframe tbody tr th {\n        vertical-align: top;\n    }\n\n    .dataframe thead th {\n        text-align: right;\n    }\n</style>\n<table border=\"1\" class=\"dataframe\">\n  <thead>\n    <tr style=\"text-align: right;\">\n      <th></th>\n      <th>Job Title</th>\n      <th>Location</th>\n      <th>Date</th>\n      <th>Link</th>\n      <th>Job Attributes</th>\n      <th>Job Description</th>\n    </tr>\n  </thead>\n  <tbody>\n    <tr>\n      <th>1</th>\n      <td>Restaurant Depot is hiring! Earn $15/hr</td>\n      <td>Needham Heights</td>\n      <td>Apr 30</td>\n      <td>https://boston.craigslist.org/gbs/sof/d/needha...</td>\n      <td>N/A</td>\n      <td>\\n\\nQR Code Link to This Post\\n\\n\\nAPPLY NOW\\n...</td>\n    </tr>\n    <tr>\n      <th>2</th>\n      <td>Data Science Fellowship</td>\n      <td>N/A</td>\n      <td>Apr 28</td>\n      <td>https://boston.craigslist.org/gbs/sof/d/boston...</td>\n      <td>\\ncompensation: 80,000-160,000\\n\\nemployment t...</td>\n      <td>\\n\\nQR Code Link to This Post\\n\\n\\nWhat is Pat...</td>\n    </tr>\n    <tr>\n      <th>3</th>\n      <td>Project Manager</td>\n      <td>boston: boston/cambridge/brookline</td>\n      <td>Apr 28</td>\n      <td>https://boston.craigslist.org/gbs/sof/d/boston...</td>\n      <td>\\nemployment type: full-time\\n\\n</td>\n      <td>\\n\\nQR Code Link to This Post\\n\\n\\nProject Man...</td>\n    </tr>\n    <tr>\n      <th>4</th>\n      <td>Become a Certified Cloud Architect Professional</td>\n      <td>N/A</td>\n      <td>Apr 27</td>\n      <td>https://boston.craigslist.org/gbs/sof/d/waltha...</td>\n      <td>\\ncompensation: 120000\\n\\nemployment type: emp...</td>\n      <td>\\n\\nQR Code Link to This Post\\n\\n\\nCloud Archi...</td>\n    </tr>\n    <tr>\n      <th>5</th>\n      <td>Want to earn $15/hr? Apply to Restaurant Depot</td>\n      <td>Needham Heights</td>\n      <td>Apr 25</td>\n      <td>https://boston.craigslist.org/gbs/sof/d/needha...</td>\n      <td>N/A</td>\n      <td>\\n\\nQR Code Link to This Post\\n\\n\\nAPPLY NOW\\n...</td>\n    </tr>\n  </tbody>\n</table>\n</div>"
     },
     "metadata": {},
     "execution_count": 4
    }
   ],
   "source": [
    "npo_jobs = {}\n",
    "job_no = 0\n",
    "while True:\n",
    "    response = requests.get(url)\n",
    "    data = response.text\n",
    "    soup = BeautifulSoup(data, 'html.parser')\n",
    "    jobs = soup.find_all('p', {'class': 'result-info'})\n",
    "    \n",
    "    for job in jobs:\n",
    "        title = job.find('a', {'class': 'result-title'}).text\n",
    "        location_tag = job.find('span', {'class': 'result-hood'})\n",
    "        location = location_tag.text[2:-1] if location_tag else 'N/A'\n",
    "        date = job.find('time', {'class': 'result-date'}).text\n",
    "        link = job.find('a', {'class': 'result-title'}).get('href')\n",
    "\n",
    "        # parse the job description link\n",
    "        job_response = requests.get(link)\n",
    "        job_data = job_response.text\n",
    "        job_soup = BeautifulSoup(job_data, 'html.parser')\n",
    "        job_description = job_soup.find('section', {'id': 'postingbody'}).text\n",
    "        job_attributes_tag = job_soup.find('p', {'class': 'attrgroup'})\n",
    "        job_attributes = job_attributes_tag.text if job_attributes_tag else 'N/A'\n",
    "        \n",
    "        job_no += 1\n",
    "        npo_jobs[job_no] = [title, location, date, link, job_attributes, job_description]\n",
    "        # print('Job Title: ', title, '\\nLocation: ', location, '\\nDate: ', date, '\\nLink: ', link, '\\n', job_attributes, '\\nJob Description: ', job_description, '\\n---')\n",
    "    url_tag = soup.find('a', {'title': 'next page'})\n",
    "    if url_tag.get('href'):\n",
    "        url = 'https://boston.craigslist.org' + url_tag.get('href')\n",
    "        print(url)\n",
    "    else:\n",
    "        break\n",
    "print('\\n\\n\\nTotal Jobs: ', job_no)\n",
    "npo_jobs_df = pd.DataFrame.from_dict(npo_jobs, orient = 'index', columns = ['Job Title', 'Location', 'Date', 'Link', 'Job Attributes', 'Job Description'])\n",
    "# npo_jobs_df.head()\n",
    "npo_jobs_df.to_csv('npo_jobs.csv')"
   ]
  },
  {
   "cell_type": "code",
   "execution_count": null,
   "metadata": {},
   "outputs": [],
   "source": []
  }
 ],
 "metadata": {
  "language_info": {
   "codemirror_mode": {
    "name": "ipython",
    "version": 3
   },
   "file_extension": ".py",
   "mimetype": "text/x-python",
   "name": "python",
   "nbconvert_exporter": "python",
   "pygments_lexer": "ipython3",
   "version": "3.8.0-final"
  },
  "orig_nbformat": 2,
  "kernelspec": {
   "name": "python38064bitvenvvenv31f0f01a22904b30b9afeb6e5122647d",
   "display_name": "Python 3.8.0 64-bit ('venv': venv)"
  }
 },
 "nbformat": 4,
 "nbformat_minor": 2
}