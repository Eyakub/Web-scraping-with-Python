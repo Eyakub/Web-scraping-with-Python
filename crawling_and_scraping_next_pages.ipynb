{
 "cells": [
  {
   "cell_type": "code",
   "execution_count": 4,
   "metadata": {},
   "outputs": [],
   "source": [
    "from bs4 import BeautifulSoup\n",
    "import requests\n",
    "\n",
    "url = \"https://boston.craigslist.org/search/sof\""
   ]
  },
  {
   "cell_type": "code",
   "execution_count": 3,
   "metadata": {},
   "outputs": [
    {
     "output_type": "error",
     "ename": "NameError",
     "evalue": "name 'requests' is not defined",
     "traceback": [
      "\u001b[1;31m---------------------------------------------------------------------------\u001b[0m",
      "\u001b[1;31mNameError\u001b[0m                                 Traceback (most recent call last)",
      "\u001b[1;32m<ipython-input-3-4488f79fe7c0>\u001b[0m in \u001b[0;36m<module>\u001b[1;34m\u001b[0m\n\u001b[0;32m      1\u001b[0m \u001b[0mjob_no\u001b[0m \u001b[1;33m=\u001b[0m \u001b[1;36m0\u001b[0m\u001b[1;33m\u001b[0m\u001b[1;33m\u001b[0m\u001b[0m\n\u001b[0;32m      2\u001b[0m \u001b[1;32mwhile\u001b[0m \u001b[1;32mTrue\u001b[0m\u001b[1;33m:\u001b[0m\u001b[1;33m\u001b[0m\u001b[1;33m\u001b[0m\u001b[0m\n\u001b[1;32m----> 3\u001b[1;33m     \u001b[0mresponse\u001b[0m \u001b[1;33m=\u001b[0m \u001b[0mrequests\u001b[0m\u001b[1;33m.\u001b[0m\u001b[0mget\u001b[0m\u001b[1;33m(\u001b[0m\u001b[0murl\u001b[0m\u001b[1;33m)\u001b[0m\u001b[1;33m\u001b[0m\u001b[1;33m\u001b[0m\u001b[0m\n\u001b[0m\u001b[0;32m      4\u001b[0m     \u001b[0mdata\u001b[0m \u001b[1;33m=\u001b[0m \u001b[0mresponse\u001b[0m\u001b[1;33m.\u001b[0m\u001b[0mtext\u001b[0m\u001b[1;33m\u001b[0m\u001b[1;33m\u001b[0m\u001b[0m\n\u001b[0;32m      5\u001b[0m     \u001b[0msoup\u001b[0m \u001b[1;33m=\u001b[0m \u001b[0mBeautifulSoup\u001b[0m\u001b[1;33m(\u001b[0m\u001b[0mdata\u001b[0m\u001b[1;33m,\u001b[0m \u001b[1;34m'html.parser'\u001b[0m\u001b[1;33m)\u001b[0m\u001b[1;33m\u001b[0m\u001b[1;33m\u001b[0m\u001b[0m\n",
      "\u001b[1;31mNameError\u001b[0m: name 'requests' is not defined"
     ]
    }
   ],
   "source": [
    "job_no = 0\n",
    "while True:\n",
    "    response = requests.get(url)\n",
    "    data = response.text\n",
    "    soup = BeautifulSoup(data, 'html.parser')\n",
    "    jobs = soup.find_all('p', {'class': 'result-info'})\n",
    "    \n",
    "    for job in jobs:\n",
    "        title = job.find('a', {'class': 'result-title'}).text\n",
    "        location_tag = job.find('span', {'class': 'result-hood'})\n",
    "        location = location_tag.text[2:-1] if location_tag else 'N/A'\n",
    "        date = job.find('time', {'class': 'result-date'}).text\n",
    "        link = job.find('a', {'class': 'result-title'}).get('href')\n",
    "\n",
    "        # parse the job description link\n",
    "        job_response = requests.get(link)\n",
    "        job_data = job_response.text\n",
    "        job_soup = BeautifulSoup(job_data, 'html.parser')\n",
    "        job_description = job_soup.find('section', {'id': 'postingbody'}).text\n",
    "        job_attributes_tag = job_soup.find('p', {'class': 'attrgroup'})\n",
    "        job_attributes = job_attributes_tag.text if job_attributes_tag else 'N/A'\n",
    "        job_no += 1\n",
    "        print('Job Title: ', title, '\\nLocation: ', location, '\\nDate: ', date, '\\nLink: ', link, '\\n', job_attributes, '\\nJob Description: ', job_description, '\\n---')\n",
    "    url_tag = soup.find('a', {'title': 'next page'})\n",
    "    if url_tag.get('href'):\n",
    "        url = 'https://boston.craigslist.org' + url_tag.get('href')\n",
    "        print(url)\n",
    "    else:\n",
    "        break\n",
    "print('\\n\\n\\nTotal Jobs: ', job_no)"
   ]
  }
 ],
 "metadata": {
  "language_info": {
   "codemirror_mode": {
    "name": "ipython",
    "version": 3
   },
   "file_extension": ".py",
   "mimetype": "text/x-python",
   "name": "python",
   "nbconvert_exporter": "python",
   "pygments_lexer": "ipython3",
   "version": "3.8.0-final"
  },
  "orig_nbformat": 2,
  "kernelspec": {
   "name": "python38064bitvenvvenv31f0f01a22904b30b9afeb6e5122647d",
   "display_name": "Python 3.8.0 64-bit ('venv': venv)"
  }
 },
 "nbformat": 4,
 "nbformat_minor": 2
}